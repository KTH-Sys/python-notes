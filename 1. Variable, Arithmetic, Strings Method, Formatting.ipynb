{
 "cells": [
  {
   "cell_type": "markdown",
   "id": "b0cf4250-5878-4c04-871c-ce1adcd4763b",
   "metadata": {},
   "source": [
    "# Variables\n",
    "A variable is a name that stores a value.  \n",
    "The value can be a number, string, list, etc.\n",
    "\n",
    "\n",
    "### 1. Integer\n",
    "An integer has no decimals in it."
   ]
  },
  {
   "cell_type": "code",
   "execution_count": 6,
   "id": "74b8957b-2fb5-43cb-9573-9023c02a7649",
   "metadata": {},
   "outputs": [
    {
     "name": "stdout",
     "output_type": "stream",
     "text": [
      "7\n",
      "<class 'int'>\n"
     ]
    }
   ],
   "source": [
    "x = 7\n",
    "print(x)          # Output: 7\n",
    "print(type(x))    # Output: <class 'int'>\n"
   ]
  },
  {
   "cell_type": "markdown",
   "id": "cb427d02-f6ec-40ee-b0d9-f076d063ae39",
   "metadata": {},
   "source": [
    "### 2.Floating Point\n",
    "A floating point is stored with a decimal.  \n",
    "\n",
    "Mixing int and float in an expression results in a float."
   ]
  },
  {
   "cell_type": "code",
   "execution_count": 11,
   "id": "5e3d14e4-4199-49d5-9f87-91fd43fb97fa",
   "metadata": {},
   "outputs": [
    {
     "name": "stdout",
     "output_type": "stream",
     "text": [
      "10.0\n",
      "<class 'float'>\n"
     ]
    }
   ],
   "source": [
    "a = 5        # integer\n",
    "b = 5.0      # float\n",
    "\n",
    "print(a + b)         # Output: 10.0 (result is float)\n",
    "print(type(a + b))   # Output: <class 'float'>\n"
   ]
  },
  {
   "cell_type": "markdown",
   "id": "027795d3-d835-41e9-9e50-63d62a85b45d",
   "metadata": {},
   "source": [
    "### 3. String"
   ]
  },
  {
   "cell_type": "code",
   "execution_count": 21,
   "id": "9064a222-58af-4025-bd59-c6e00083e1a5",
   "metadata": {},
   "outputs": [
    {
     "name": "stdout",
     "output_type": "stream",
     "text": [
      "Sys\n"
     ]
    }
   ],
   "source": [
    "name = \"Sys\"\n",
    "print(name)      # Output: Sys"
   ]
  },
  {
   "cell_type": "markdown",
   "id": "d08572ab-e430-4b40-9452-e163039ce4dd",
   "metadata": {},
   "source": [
    "### 4. Boolean"
   ]
  },
  {
   "cell_type": "code",
   "execution_count": 28,
   "id": "780a1200-5394-4f66-8dad-f7d5ea839cbb",
   "metadata": {},
   "outputs": [
    {
     "name": "stdout",
     "output_type": "stream",
     "text": [
      "True\n"
     ]
    }
   ],
   "source": [
    "is_student = True\n",
    "print(is_student)  # Output: True"
   ]
  },
  {
   "cell_type": "markdown",
   "id": "f356e1d4-5101-4712-8ae4-5d5bff3fc993",
   "metadata": {},
   "source": [
    "### 5. Reassignment"
   ]
  },
  {
   "cell_type": "code",
   "execution_count": 31,
   "id": "28770196-7f48-42b4-8775-1dab837bd724",
   "metadata": {},
   "outputs": [
    {
     "name": "stdout",
     "output_type": "stream",
     "text": [
      "100\n"
     ]
    }
   ],
   "source": [
    "score = 90\n",
    "score = score + 10\n",
    "print(score)     # Output: 100"
   ]
  },
  {
   "cell_type": "markdown",
   "id": "8be1b08d-d15c-421a-afb5-05a770ccb345",
   "metadata": {},
   "source": [
    "### Variable Naming Rules  \n",
    "Start with a letter or underscore (_)\n",
    "\n",
    "Can't start with a number (❌ 1name)\n",
    "\n",
    "No spaces (✅ user_name, ❌ user name)\n",
    "\n",
    "Case sensitive: age and Age are different"
   ]
  },
  {
   "cell_type": "markdown",
   "id": "3e6b306d-ca49-42fc-8a39-905b385d7209",
   "metadata": {},
   "source": [
    "# Basic Arithmetic\n",
    "### 1. Addition"
   ]
  },
  {
   "cell_type": "code",
   "execution_count": 35,
   "id": "66dced61-ccda-429d-96b0-223d35f33669",
   "metadata": {},
   "outputs": [
    {
     "name": "stdout",
     "output_type": "stream",
     "text": [
      "8\n"
     ]
    }
   ],
   "source": [
    "a = 5 + 3\n",
    "print(a)   # Output: 8"
   ]
  },
  {
   "cell_type": "markdown",
   "id": "6b63150b-96cd-434a-bac1-ba5e301c4849",
   "metadata": {},
   "source": [
    "### 2. Subtraction"
   ]
  },
  {
   "cell_type": "code",
   "execution_count": 38,
   "id": "edf3fcc2-a97c-4f63-aafe-cba8b96145ef",
   "metadata": {},
   "outputs": [
    {
     "name": "stdout",
     "output_type": "stream",
     "text": [
      "6\n"
     ]
    }
   ],
   "source": [
    "b = 10 - 4\n",
    "print(b)   # Output: 6"
   ]
  },
  {
   "cell_type": "markdown",
   "id": "98332fb2-e93c-4605-b69a-36b9958d4146",
   "metadata": {},
   "source": [
    "### 3. Multiplication"
   ]
  },
  {
   "cell_type": "code",
   "execution_count": 41,
   "id": "aba0b8c9-14fb-428c-bbb0-befb4413d3f3",
   "metadata": {},
   "outputs": [
    {
     "name": "stdout",
     "output_type": "stream",
     "text": [
      "42\n"
     ]
    }
   ],
   "source": [
    "c = 6 * 7\n",
    "print(c)   # Output: 42"
   ]
  },
  {
   "cell_type": "markdown",
   "id": "3e37f08d-7305-4802-bf34-bb66b525506c",
   "metadata": {},
   "source": [
    "### 4. Division (Always return float)"
   ]
  },
  {
   "cell_type": "code",
   "execution_count": 44,
   "id": "647c11a2-6d47-4076-a6a0-ef6ebff84fff",
   "metadata": {},
   "outputs": [
    {
     "name": "stdout",
     "output_type": "stream",
     "text": [
      "7.5\n"
     ]
    }
   ],
   "source": [
    "d = 15 / 2\n",
    "print(d)   # Output: 7.5"
   ]
  },
  {
   "cell_type": "markdown",
   "id": "f1dad96d-7ced-4416-a788-7e7f80ec2d82",
   "metadata": {},
   "source": [
    "### 5. Floor Division (Integer)"
   ]
  },
  {
   "cell_type": "code",
   "execution_count": 48,
   "id": "08a934a5-cfd8-4811-8d5b-3b5144b6847b",
   "metadata": {},
   "outputs": [
    {
     "name": "stdout",
     "output_type": "stream",
     "text": [
      "7\n"
     ]
    }
   ],
   "source": [
    "e = 15 // 2\n",
    "print(e)   # Output: 7"
   ]
  },
  {
   "cell_type": "markdown",
   "id": "5cdd1078-aa5c-437a-b727-f2dfd9e2f947",
   "metadata": {},
   "source": [
    "### 6. Modulo (Remainder)"
   ]
  },
  {
   "cell_type": "code",
   "execution_count": 51,
   "id": "146780ca-0c0f-4024-8d4d-8be43ea61128",
   "metadata": {},
   "outputs": [
    {
     "name": "stdout",
     "output_type": "stream",
     "text": [
      "3\n"
     ]
    }
   ],
   "source": [
    "f = 15 % 4\n",
    "print(f)   # Output: 3"
   ]
  },
  {
   "cell_type": "markdown",
   "id": "150fc4d2-0eaf-4b89-a599-9ba27ef46772",
   "metadata": {},
   "source": [
    "### 7. Power"
   ]
  },
  {
   "cell_type": "code",
   "execution_count": 54,
   "id": "6fea15c0-918f-42aa-a4d0-102912a6f851",
   "metadata": {},
   "outputs": [
    {
     "name": "stdout",
     "output_type": "stream",
     "text": [
      "8\n"
     ]
    }
   ],
   "source": [
    "g = 2 ** 3\n",
    "print(g)   # Output: 8"
   ]
  },
  {
   "cell_type": "markdown",
   "id": "acda9ba4-c99d-4f5a-aa10-90c553c6f6bb",
   "metadata": {},
   "source": [
    "### Can use parentheses to specify orders"
   ]
  },
  {
   "cell_type": "code",
   "execution_count": 57,
   "id": "8b38cc8f-9be8-4914-8ae4-3e2050ee9253",
   "metadata": {},
   "outputs": [
    {
     "name": "stdout",
     "output_type": "stream",
     "text": [
      "156\n"
     ]
    }
   ],
   "source": [
    "print ((2+10) * (10+3))"
   ]
  },
  {
   "cell_type": "markdown",
   "id": "8b54eafe-8785-4d94-9d99-f3be179f69d0",
   "metadata": {},
   "source": [
    "# String  \n",
    "Strings can be single ' or \" quotes."
   ]
  },
  {
   "cell_type": "code",
   "execution_count": 60,
   "id": "23edb3c8-113e-46c2-bc0a-251c95d2058a",
   "metadata": {},
   "outputs": [],
   "source": [
    "name = \"Alice\"\n",
    "greeting = 'Hello!'"
   ]
  },
  {
   "cell_type": "markdown",
   "id": "179c3571-a28e-4f40-96ef-35dd47e01c90",
   "metadata": {},
   "source": [
    "## String Indexing\n",
    "Index starts at 0 or -1 from backwards"
   ]
  },
  {
   "cell_type": "code",
   "execution_count": 63,
   "id": "de969349-fdd7-4434-8904-047cfc96c92b",
   "metadata": {},
   "outputs": [
    {
     "name": "stdout",
     "output_type": "stream",
     "text": [
      "P\n",
      "y\n",
      "n\n"
     ]
    }
   ],
   "source": [
    "text = \"Python\"\n",
    "\n",
    "print(text[0])   # Output: P\n",
    "print(text[1])   # Output: y\n",
    "print(text[-1])  # Output: n (last character)"
   ]
  },
  {
   "cell_type": "markdown",
   "id": "512aa6c9-1a9a-4f97-bb31-46c6dd0faf0d",
   "metadata": {},
   "source": [
    "## Slicing \n",
    "ရှေ့ပါ နောက်မပါ"
   ]
  },
  {
   "cell_type": "code",
   "execution_count": 66,
   "id": "f509276b-7bbf-47e5-984e-fabfc199d18a",
   "metadata": {},
   "outputs": [
    {
     "name": "stdout",
     "output_type": "stream",
     "text": [
      "P\n",
      "y\n",
      "n\n"
     ]
    }
   ],
   "source": [
    "text = \"Python\"\n",
    "\n",
    "print(text[0])   # Output: P\n",
    "print(text[1])   # Output: y\n",
    "print(text[-1])  # Output: n (last character)"
   ]
  },
  {
   "cell_type": "raw",
   "id": "08b68ce9-102d-42be-a02a-ce85d9ffb0b9",
   "metadata": {
    "scrolled": true
   },
   "source": [
    "string[start:stop:step]"
   ]
  },
  {
   "cell_type": "code",
   "execution_count": 72,
   "id": "91c6af3d-9002-4a26-ba0b-bca44f01f135",
   "metadata": {},
   "outputs": [
    {
     "name": "stdout",
     "output_type": "stream",
     "text": [
      "Pyth\n"
     ]
    }
   ],
   "source": [
    "print(text[0:4])   # Output: 'Pyth'"
   ]
  },
  {
   "cell_type": "markdown",
   "id": "d52aa24c-f3e1-476a-85f4-cf1b444fb6bc",
   "metadata": {},
   "source": [
    "### Step"
   ]
  },
  {
   "cell_type": "code",
   "execution_count": 77,
   "id": "71332b53-cc62-418f-9f35-04fac566dea2",
   "metadata": {},
   "outputs": [
    {
     "name": "stdout",
     "output_type": "stream",
     "text": [
      "Python\n"
     ]
    }
   ],
   "source": [
    "print(text[::1])   # Output: 'Python'"
   ]
  },
  {
   "cell_type": "code",
   "execution_count": 79,
   "id": "d8379fe9-d693-46e8-b9bd-c9de27527e0c",
   "metadata": {},
   "outputs": [
    {
     "name": "stdout",
     "output_type": "stream",
     "text": [
      "Pto\n"
     ]
    }
   ],
   "source": [
    "print(text[::2])   # Output: 'Pto'"
   ]
  },
  {
   "cell_type": "code",
   "execution_count": 81,
   "id": "921df686-bb64-42b6-a604-4f29a6e637ba",
   "metadata": {},
   "outputs": [
    {
     "name": "stdout",
     "output_type": "stream",
     "text": [
      "nhy\n"
     ]
    }
   ],
   "source": [
    "print(text[::-2]) "
   ]
  },
  {
   "cell_type": "code",
   "execution_count": 83,
   "id": "f4918fb6-0141-452b-a9b3-e27b6d8916ae",
   "metadata": {},
   "outputs": [
    {
     "name": "stdout",
     "output_type": "stream",
     "text": [
      "BDFH\n"
     ]
    }
   ],
   "source": [
    "word = \"ABCDEFGHIJ\"\n",
    "\n",
    "print(word[1:8:2])   # Output: 'BDFH'"
   ]
  },
  {
   "cell_type": "markdown",
   "id": "bc9b58df-7f5b-4667-926e-1303c772586d",
   "metadata": {},
   "source": [
    "## String Methods\n",
    "### .upper() – Convert to uppercase"
   ]
  },
  {
   "cell_type": "code",
   "execution_count": 89,
   "id": "1ed05501-f62b-4311-910b-23bec2a8c203",
   "metadata": {},
   "outputs": [
    {
     "name": "stdout",
     "output_type": "stream",
     "text": [
      "HELLO\n"
     ]
    }
   ],
   "source": [
    "text = \"hello\"\n",
    "print(text.upper())  # Output: HELLO"
   ]
  },
  {
   "cell_type": "markdown",
   "id": "eade4577-bd4d-4d91-8603-537677e8fd06",
   "metadata": {},
   "source": [
    "### .lower() – Convert to lowercase"
   ]
  },
  {
   "cell_type": "code",
   "execution_count": 93,
   "id": "a6629220-dda2-4e77-9ed7-39661a00db17",
   "metadata": {},
   "outputs": [
    {
     "name": "stdout",
     "output_type": "stream",
     "text": [
      "hello\n"
     ]
    }
   ],
   "source": [
    "print(\"HELLO\".lower())  # Output: hello"
   ]
  },
  {
   "cell_type": "markdown",
   "id": "e0ae48c2-a4a8-47a8-a6db-1bc2f000c142",
   "metadata": {},
   "source": [
    "### .title() – Title-case each word"
   ]
  },
  {
   "cell_type": "code",
   "execution_count": 97,
   "id": "92a325a2-9445-487c-b810-7975e07d79a3",
   "metadata": {},
   "outputs": [
    {
     "name": "stdout",
     "output_type": "stream",
     "text": [
      "Hello World\n"
     ]
    }
   ],
   "source": [
    "print(\"hello world\".title())  # Output: Hello World"
   ]
  },
  {
   "cell_type": "markdown",
   "id": "b3c22e2a-baa6-4c82-b10d-30ce3cdd6115",
   "metadata": {},
   "source": [
    "### .capitalize() – Capitalize the first letter"
   ]
  },
  {
   "cell_type": "code",
   "execution_count": 100,
   "id": "a16cdf0d-0683-4232-bb56-9f61003a0b90",
   "metadata": {},
   "outputs": [
    {
     "name": "stdout",
     "output_type": "stream",
     "text": [
      "Hello world\n"
     ]
    }
   ],
   "source": [
    "print(\"hello world\".capitalize())  # Output: Hello world"
   ]
  },
  {
   "cell_type": "markdown",
   "id": "6b331a37-b25f-423a-bb72-08a923186b5f",
   "metadata": {},
   "source": [
    "### .strip() – Remove leading and trailing spaces"
   ]
  },
  {
   "cell_type": "code",
   "execution_count": 104,
   "id": "ef32ff5b-739e-4dad-860d-bb41ad3e78db",
   "metadata": {},
   "outputs": [
    {
     "name": "stdout",
     "output_type": "stream",
     "text": [
      "hello\n"
     ]
    }
   ],
   "source": [
    "text = \"  hello  \"\n",
    "print(text.strip())  # Output: 'hello'"
   ]
  },
  {
   "cell_type": "markdown",
   "id": "d04689af-c4ba-48f2-942f-22b73a8f0b31",
   "metadata": {},
   "source": [
    "### .lstrip() and .rstrip() – Remove leading or trailing spaces"
   ]
  },
  {
   "cell_type": "markdown",
   "id": "66fb171c-9c8b-43be-8697-671b1b2f6430",
   "metadata": {},
   "source": [
    "print(text.lstrip())  # Output: 'hello  '\n",
    "print(text.rstrip())  # Output: '  hello'"
   ]
  },
  {
   "cell_type": "markdown",
   "id": "1d64bfa1-a5f0-476f-91f4-72481fb3b84c",
   "metadata": {},
   "source": [
    "### .find() – Get index of substring (returns -1 if not found)"
   ]
  },
  {
   "cell_type": "code",
   "execution_count": 110,
   "id": "24241b4f-35d0-42c5-80af-af1d180666f6",
   "metadata": {},
   "outputs": [
    {
     "name": "stdout",
     "output_type": "stream",
     "text": [
      "6\n"
     ]
    }
   ],
   "source": [
    "text = \"hello world\"\n",
    "print(text.find(\"world\"))  # Output: 6"
   ]
  },
  {
   "cell_type": "markdown",
   "id": "c4a638ff-3185-4870-af1d-4ebf0a1277b2",
   "metadata": {},
   "source": [
    "### .replace() – Replace part of a string"
   ]
  },
  {
   "cell_type": "code",
   "execution_count": 113,
   "id": "b500650f-f5b5-485e-8b43-ea8352b86540",
   "metadata": {},
   "outputs": [
    {
     "name": "stdout",
     "output_type": "stream",
     "text": [
      "hello Python\n"
     ]
    }
   ],
   "source": [
    "print(text.replace(\"world\", \"Python\"))  # Output: hello Python"
   ]
  },
  {
   "cell_type": "markdown",
   "id": "fbfe4aa1-f0b3-45e4-88dd-8b8c49fd30f8",
   "metadata": {},
   "source": [
    "### .count() – Count occurrences"
   ]
  },
  {
   "cell_type": "code",
   "execution_count": 116,
   "id": "0ca8bfd1-58e5-495d-ae83-f1f83f225c92",
   "metadata": {},
   "outputs": [
    {
     "name": "stdout",
     "output_type": "stream",
     "text": [
      "3\n"
     ]
    }
   ],
   "source": [
    "print(\"banana\".count(\"a\"))  # Output: 3"
   ]
  },
  {
   "cell_type": "markdown",
   "id": "28c83018-8f52-489c-8330-ba5aaa58f290",
   "metadata": {},
   "source": [
    "### .split() – Convert string to list"
   ]
  },
  {
   "cell_type": "code",
   "execution_count": 119,
   "id": "167cdcb0-7db1-4fa3-a4c4-cb3e3985fa74",
   "metadata": {},
   "outputs": [
    {
     "name": "stdout",
     "output_type": "stream",
     "text": [
      "['hello', 'world']\n"
     ]
    }
   ],
   "source": [
    "sentence = \"hello world\"\n",
    "words = sentence.split()\n",
    "print(words)  # Output: ['hello', 'world']"
   ]
  },
  {
   "cell_type": "markdown",
   "id": "c559c7c2-e34e-42a7-9ac3-8753f123f16e",
   "metadata": {},
   "source": [
    "### .join() – Join list into string"
   ]
  },
  {
   "cell_type": "code",
   "execution_count": 124,
   "id": "2c36869d-d785-41ee-960f-db8485f42489",
   "metadata": {},
   "outputs": [
    {
     "name": "stdout",
     "output_type": "stream",
     "text": [
      "hello-world\n"
     ]
    }
   ],
   "source": [
    "joined = \"-\".join(words)\n",
    "print(joined)  # Output: hello-world"
   ]
  },
  {
   "cell_type": "markdown",
   "id": "c8bfeeae-ab7a-4775-b6ec-dea6850f9fcb",
   "metadata": {},
   "source": [
    "### String Checks"
   ]
  },
  {
   "cell_type": "code",
   "execution_count": 127,
   "id": "18fd52a2-a5c2-45cf-a14c-64ca27222f7a",
   "metadata": {},
   "outputs": [
    {
     "name": "stdout",
     "output_type": "stream",
     "text": [
      "True\n",
      "True\n",
      "True\n",
      "True\n"
     ]
    }
   ],
   "source": [
    "print(\"hello\".isalpha())    # True\n",
    "print(\"1234\".isdigit())     # True\n",
    "print(\"abc123\".isalnum())   # True\n",
    "print(\"   \".isspace())      # True"
   ]
  },
  {
   "cell_type": "code",
   "execution_count": 133,
   "id": "67e3072a-4931-4ffc-890a-121fed4df340",
   "metadata": {},
   "outputs": [
    {
     "name": "stdout",
     "output_type": "stream",
     "text": [
      "True\n",
      "True\n"
     ]
    }
   ],
   "source": [
    "text = \"Python is fun!\"\n",
    "print(text.startswith(\"Python\"))  # True\n",
    "print(text.endswith(\"fun!\"))      # True"
   ]
  },
  {
   "cell_type": "markdown",
   "id": "91ebd9f5-1308-441c-aac2-04162688c411",
   "metadata": {},
   "source": [
    "## Print Formatting"
   ]
  },
  {
   "cell_type": "markdown",
   "id": "60a1fd65-b9ed-40cb-a178-dbbe988f9c48",
   "metadata": {},
   "source": [
    "### f-strings"
   ]
  },
  {
   "cell_type": "code",
   "execution_count": 137,
   "id": "5a2f6b14-4686-44c4-a571-0fd82e3dbd77",
   "metadata": {},
   "outputs": [
    {
     "name": "stdout",
     "output_type": "stream",
     "text": [
      "My name is Alice and I am 30 years old.\n"
     ]
    }
   ],
   "source": [
    "name = \"Alice\"\n",
    "age = 30\n",
    "\n",
    "print(f\"My name is {name} and I am {age} years old.\")"
   ]
  },
  {
   "cell_type": "markdown",
   "id": "0a86298a-5083-436e-851c-7501aa85429d",
   "metadata": {},
   "source": [
    "### .format() method"
   ]
  },
  {
   "cell_type": "code",
   "execution_count": 140,
   "id": "1ea5cbf9-4112-4e20-b7cd-39e4df011461",
   "metadata": {},
   "outputs": [
    {
     "name": "stdout",
     "output_type": "stream",
     "text": [
      "My name is Alice and I am 30 years old.\n"
     ]
    }
   ],
   "source": [
    "print(\"My name is {} and I am {} years old.\".format(name, age))"
   ]
  },
  {
   "cell_type": "markdown",
   "id": "d5c41b5f-e9fb-40bc-a3a1-7dfd8c6ef6a1",
   "metadata": {},
   "source": [
    "## Advanced String Formatting"
   ]
  },
  {
   "cell_type": "markdown",
   "id": "acddf111-99d2-4da6-8f09-3262f87d27fd",
   "metadata": {},
   "source": [
    "### 1. Alignment and Width\n",
    "Left, Center, and Right Alignment in a 10-character field"
   ]
  },
  {
   "cell_type": "code",
   "execution_count": 145,
   "id": "00ee4fb8-f57a-4547-99dd-099edd3b4825",
   "metadata": {},
   "outputs": [
    {
     "name": "stdout",
     "output_type": "stream",
     "text": [
      "|Hi        |\n",
      "|    Hi    |\n",
      "|        Hi|\n"
     ]
    }
   ],
   "source": [
    "text = \"Hi\"\n",
    "print(f\"|{text:<10}|\")   # Left align\n",
    "print(f\"|{text:^10}|\")   # Center align\n",
    "print(f\"|{text:>10}|\")   # Right align"
   ]
  },
  {
   "cell_type": "markdown",
   "id": "622ece38-02ce-419e-8cdf-4fb275f64deb",
   "metadata": {},
   "source": [
    "### 2. Number Formatting\n",
    "Decimal Places with f-Strings"
   ]
  },
  {
   "cell_type": "code",
   "execution_count": 149,
   "id": "3828dc75-8d1e-44ef-afe0-e17aacc0c147",
   "metadata": {},
   "outputs": [
    {
     "name": "stdout",
     "output_type": "stream",
     "text": [
      "Pi rounded to 2 decimals: 3.14\n"
     ]
    }
   ],
   "source": [
    "pi = 3.14159\n",
    "print(f\"Pi rounded to 2 decimals: {pi:.2f}\")  # Output: 3.14"
   ]
  },
  {
   "cell_type": "markdown",
   "id": "be3faf61-a962-4ecd-9350-eca66d55bba5",
   "metadata": {},
   "source": [
    "Decimal Places with .format()"
   ]
  },
  {
   "cell_type": "code",
   "execution_count": 155,
   "id": "1d104d24-4dc7-40c3-aa25-f6e611731f51",
   "metadata": {},
   "outputs": [
    {
     "name": "stdout",
     "output_type": "stream",
     "text": [
      "Pi rounded: 3.142\n"
     ]
    }
   ],
   "source": [
    "print(\"Pi rounded: {:.3f}\".format(pi))  # Output: 3.142"
   ]
  },
  {
   "cell_type": "markdown",
   "id": "7ee7e5f4-73b2-464b-bf77-07d787c82a81",
   "metadata": {},
   "source": [
    "### 3. Currency Formatting"
   ]
  },
  {
   "cell_type": "code",
   "execution_count": 170,
   "id": "a769ce4b-dbd8-46a8-bfe0-a29158e07d9c",
   "metadata": {},
   "outputs": [
    {
     "name": "stdout",
     "output_type": "stream",
     "text": [
      "Price: $1,234.57\n"
     ]
    }
   ],
   "source": [
    "price = 1234.567\n",
    "print(f\"Price: ${price:,.2f}\")  # Output: $1,234.57"
   ]
  },
  {
   "cell_type": "markdown",
   "id": "39e307e6-7a46-49d1-9749-05b28b660b39",
   "metadata": {},
   "source": [
    "### 4. Percentage Format"
   ]
  },
  {
   "cell_type": "code",
   "execution_count": 174,
   "id": "00d8196e-378f-4492-9e83-897d18e7b6ca",
   "metadata": {},
   "outputs": [
    {
     "name": "stdout",
     "output_type": "stream",
     "text": [
      "Success: 87.2%\n"
     ]
    }
   ],
   "source": [
    "success_rate = 0.87234\n",
    "print(f\"Success: {success_rate:.1%}\")  # Output: 87.2%"
   ]
  },
  {
   "cell_type": "markdown",
   "id": "73681dfe-13e9-47cc-b97c-1dd6fc3693bb",
   "metadata": {},
   "source": [
    "### 5. Reordering and Naming Placeholders"
   ]
  },
  {
   "cell_type": "code",
   "execution_count": 179,
   "id": "1258759e-ada9-4b93-9e96-8678be7b1650",
   "metadata": {},
   "outputs": [
    {
     "name": "stdout",
     "output_type": "stream",
     "text": [
      "Bob is older than Alice\n",
      "The cat jumps over the moon\n"
     ]
    }
   ],
   "source": [
    "print(\"{1} is older than {0}\".format(\"Alice\", \"Bob\"))\n",
    "# Output: Bob is older than Alice\n",
    "\n",
    "print(\"The {animal} jumps over the {object}\".format(animal=\"cat\", object=\"moon\"))"
   ]
  },
  {
   "cell_type": "markdown",
   "id": "ad51c3ff-d0df-4725-ab36-9140a0290173",
   "metadata": {},
   "source": [
    "Use :<10, :^10, and :>10 to align strings.\n",
    "\n",
    "Use :.2f for 2 decimal places.\n",
    "\n",
    "Use :, to include commas in numbers.\n",
    "\n",
    "Use :.1% for percent display."
   ]
  }
 ],
 "metadata": {
  "kernelspec": {
   "display_name": "Python [conda env:base] *",
   "language": "python",
   "name": "conda-base-py"
  },
  "language_info": {
   "codemirror_mode": {
    "name": "ipython",
    "version": 3
   },
   "file_extension": ".py",
   "mimetype": "text/x-python",
   "name": "python",
   "nbconvert_exporter": "python",
   "pygments_lexer": "ipython3",
   "version": "3.12.7"
  }
 },
 "nbformat": 4,
 "nbformat_minor": 5
}
