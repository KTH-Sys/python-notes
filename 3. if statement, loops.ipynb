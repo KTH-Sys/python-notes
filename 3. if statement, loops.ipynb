{
 "cells": [
  {
   "cell_type": "markdown",
   "id": "a18a8c57-d831-449f-b7cb-d305bca92b27",
   "metadata": {},
   "source": [
    "# if, elif, else Statement\n",
    "if condition1:  \n",
    "    # runs if condition1 is True  \n",
    "\n",
    "elif condition2:  \n",
    "    # runs if condition1 is False and condition2 is True  \n",
    "\n",
    "else:  \n",
    "    # runs if all above conditions are False"
   ]
  },
  {
   "cell_type": "code",
   "execution_count": 11,
   "id": "0e4070ae-86e9-4460-a2a2-6cb1fc17018a",
   "metadata": {},
   "outputs": [
    {
     "name": "stdout",
     "output_type": "stream",
     "text": [
      "Positive\n"
     ]
    }
   ],
   "source": [
    "x = 10\n",
    "\n",
    "if x > 0:\n",
    "    print(\"Positive\")\n",
    "elif x == 0:\n",
    "    print(\"Zero\")\n",
    "else:\n",
    "    print(\"Negative\")\n"
   ]
  },
  {
   "cell_type": "code",
   "execution_count": 13,
   "id": "8516fac4-62d8-443c-930e-8bdd1e052f93",
   "metadata": {},
   "outputs": [
    {
     "name": "stdout",
     "output_type": "stream",
     "text": [
      "B\n"
     ]
    }
   ],
   "source": [
    "score = 85\n",
    "\n",
    "if score >= 90:\n",
    "    print(\"A\")\n",
    "elif score >= 80:\n",
    "    print(\"B\")\n",
    "elif score >= 70:\n",
    "    print(\"C\")\n",
    "else:\n",
    "    print(\"F\")\n"
   ]
  },
  {
   "cell_type": "markdown",
   "id": "0dbcb0ad-9c09-4d3c-9f8b-3730c86f320b",
   "metadata": {},
   "source": [
    "## Combine with and / or"
   ]
  },
  {
   "cell_type": "code",
   "execution_count": 16,
   "id": "0f7c02e2-9a54-42f9-8602-0770155e5d5a",
   "metadata": {},
   "outputs": [
    {
     "name": "stdout",
     "output_type": "stream",
     "text": [
      "Adult\n"
     ]
    }
   ],
   "source": [
    "age = 25\n",
    "if age >= 18 and age < 65:\n",
    "    print(\"Adult\")"
   ]
  },
  {
   "cell_type": "markdown",
   "id": "a5d4c429-830f-4824-91b4-86c753187331",
   "metadata": {},
   "source": [
    "# for Loop"
   ]
  },
  {
   "cell_type": "code",
   "execution_count": null,
   "id": "14b08343-a0cf-4376-8ef8-50bfa07a86ba",
   "metadata": {},
   "outputs": [],
   "source": [
    "for item in iterable:\n",
    "    # do something with item"
   ]
  },
  {
   "cell_type": "markdown",
   "id": "544f1800-156f-4c54-82f4-2861c3248cd2",
   "metadata": {},
   "source": [
    "### Loop Through a List"
   ]
  },
  {
   "cell_type": "code",
   "execution_count": 27,
   "id": "ffccd188-a4d3-4186-8b9f-099e7ee100ab",
   "metadata": {},
   "outputs": [
    {
     "name": "stdout",
     "output_type": "stream",
     "text": [
      "I like apple\n",
      "I like banana\n",
      "I like cherry\n"
     ]
    }
   ],
   "source": [
    "fruits = [\"apple\", \"banana\", \"cherry\"]\n",
    "\n",
    "for fruit in fruits:\n",
    "    print(f\"I like {fruit}\")"
   ]
  },
  {
   "cell_type": "markdown",
   "id": "eb8477a2-cb93-4735-90f6-3fdbf7473b1b",
   "metadata": {},
   "source": [
    "### Loop Through a String"
   ]
  },
  {
   "cell_type": "code",
   "execution_count": 32,
   "id": "1be205ac-7407-4da9-a066-d2a05d4f4d6c",
   "metadata": {},
   "outputs": [
    {
     "name": "stdout",
     "output_type": "stream",
     "text": [
      "h\n",
      "e\n",
      "l\n",
      "l\n",
      "o\n"
     ]
    }
   ],
   "source": [
    "for letter in \"hello\":\n",
    "    print(letter)"
   ]
  },
  {
   "cell_type": "markdown",
   "id": "11c6ddc2-ec9d-4460-b489-04b26628b2b4",
   "metadata": {},
   "source": [
    "### Loop with range()"
   ]
  },
  {
   "cell_type": "code",
   "execution_count": 35,
   "id": "3cce3fb9-aeb8-4ebb-8c63-48bd55307539",
   "metadata": {},
   "outputs": [
    {
     "name": "stdout",
     "output_type": "stream",
     "text": [
      "0\n",
      "1\n",
      "2\n",
      "3\n",
      "4\n"
     ]
    }
   ],
   "source": [
    "for i in range(5):\n",
    "    print(i)"
   ]
  },
  {
   "cell_type": "markdown",
   "id": "7dbd8e3d-3013-471a-b1f9-deb62ab28529",
   "metadata": {},
   "source": [
    "### Custom Start/Stop/Step"
   ]
  },
  {
   "cell_type": "code",
   "execution_count": 38,
   "id": "b3a637ce-cdd3-4c7b-b509-503481d3679b",
   "metadata": {},
   "outputs": [
    {
     "name": "stdout",
     "output_type": "stream",
     "text": [
      "2\n",
      "4\n",
      "6\n",
      "8\n"
     ]
    }
   ],
   "source": [
    "for i in range(2, 10, 2):\n",
    "    print(i)"
   ]
  },
  {
   "cell_type": "markdown",
   "id": "81fc84c1-94fc-4db5-ba54-585027715d80",
   "metadata": {},
   "source": [
    "### Nested for Loop (Advanced)"
   ]
  },
  {
   "cell_type": "code",
   "execution_count": 41,
   "id": "174b0e4b-b1c4-4b3f-a5eb-48cbc9ba4a5e",
   "metadata": {},
   "outputs": [
    {
     "name": "stdout",
     "output_type": "stream",
     "text": [
      "i=0, j=0\n",
      "i=0, j=1\n",
      "i=1, j=0\n",
      "i=1, j=1\n",
      "i=2, j=0\n",
      "i=2, j=1\n"
     ]
    }
   ],
   "source": [
    "for i in range(3):\n",
    "    for j in range(2):\n",
    "        print(f\"i={i}, j={j}\")"
   ]
  },
  {
   "cell_type": "code",
   "execution_count": 43,
   "id": "76bbb1c6-920f-48d3-b19c-e0f3bbacf217",
   "metadata": {},
   "outputs": [
    {
     "name": "stdout",
     "output_type": "stream",
     "text": [
      "1 is odd\n",
      "2 is even\n",
      "3 is odd\n",
      "4 is even\n",
      "5 is odd\n"
     ]
    }
   ],
   "source": [
    "numbers = [1, 2, 3, 4, 5]\n",
    "\n",
    "for num in numbers:\n",
    "    if num % 2 == 0:\n",
    "        print(f\"{num} is even\")\n",
    "    else:\n",
    "        print(f\"{num} is odd\")"
   ]
  },
  {
   "cell_type": "code",
   "execution_count": 45,
   "id": "eeb7a807-cde4-4957-b20f-adcb974528d2",
   "metadata": {},
   "outputs": [
    {
     "name": "stdout",
     "output_type": "stream",
     "text": [
      "'apple' is a long word.\n",
      "'banana' is a long word.\n",
      "'kiwi' is a short word.\n",
      "'fig' is a short word.\n"
     ]
    }
   ],
   "source": [
    "words = [\"apple\", \"banana\", \"kiwi\", \"fig\"]\n",
    "\n",
    "for word in words:\n",
    "    if len(word) <= 4:\n",
    "        print(f\"'{word}' is a short word.\")\n",
    "    else:\n",
    "        print(f\"'{word}' is a long word.\")"
   ]
  },
  {
   "cell_type": "markdown",
   "id": "9cfaced2-a0e3-4baf-a79f-fe76f9448c81",
   "metadata": {},
   "source": [
    "## continue and break"
   ]
  },
  {
   "cell_type": "code",
   "execution_count": 48,
   "id": "eb4ac546-9cad-49e8-95cb-d31e51754cb1",
   "metadata": {},
   "outputs": [
    {
     "name": "stdout",
     "output_type": "stream",
     "text": [
      "1\n",
      "3\n",
      "5\n",
      "Found 7! Breaking the loop.\n"
     ]
    }
   ],
   "source": [
    "for num in range(10):\n",
    "    if num == 7:\n",
    "        print(\"Found 7! Breaking the loop.\")\n",
    "        break\n",
    "    elif num % 2 == 0:\n",
    "        continue  # Skip even numbers\n",
    "    print(num)"
   ]
  },
  {
   "cell_type": "markdown",
   "id": "16a2afff-8521-4615-ab8d-7a1e41ae93df",
   "metadata": {},
   "source": [
    "# while Loop\n",
    "A while loop repeats as long as a condition is True."
   ]
  },
  {
   "cell_type": "code",
   "execution_count": 53,
   "id": "4020306e-fa5b-4ae3-9e0c-22d1af2711b3",
   "metadata": {},
   "outputs": [
    {
     "name": "stdout",
     "output_type": "stream",
     "text": [
      "1\n",
      "2\n",
      "3\n",
      "4\n",
      "5\n"
     ]
    }
   ],
   "source": [
    "i = 1\n",
    "while i <= 5:\n",
    "    print(i)\n",
    "    i += 1"
   ]
  },
  {
   "cell_type": "code",
   "execution_count": 55,
   "id": "494aedee-646f-4655-b4bd-d8ed3bed2e75",
   "metadata": {},
   "outputs": [
    {
     "name": "stdout",
     "output_type": "stream",
     "text": [
      "0\n",
      "1\n",
      "2\n"
     ]
    }
   ],
   "source": [
    "x = 0\n",
    "while True:\n",
    "    if x == 3:\n",
    "        break\n",
    "    print(x)\n",
    "    x += 1"
   ]
  },
  {
   "cell_type": "code",
   "execution_count": 57,
   "id": "cb4aee2d-97fa-409b-ba40-111a91d6acc6",
   "metadata": {},
   "outputs": [
    {
     "name": "stdout",
     "output_type": "stream",
     "text": [
      "1\n",
      "2\n",
      "4\n",
      "5\n"
     ]
    }
   ],
   "source": [
    "i = 0\n",
    "while i < 5:\n",
    "    i += 1\n",
    "    if i == 3:\n",
    "        continue  # skip printing 3\n",
    "    print(i)"
   ]
  },
  {
   "cell_type": "markdown",
   "id": "22402409-1400-4648-afaa-7ba922aa9d7d",
   "metadata": {},
   "source": [
    "| `while` Loop                         | `for` Loop                             |\n",
    "| ------------------------------------ | -------------------------------------- |\n",
    "| Repeats **until** condition is false | Repeats **over** items or range        |\n",
    "| Good for **unknown repetitions**     | Best for **known iterations**          |\n",
    "| Needs manual control (`i += 1`)      | Often uses built-in `range()` or lists |"
   ]
  },
  {
   "cell_type": "markdown",
   "id": "4e845c02-93fd-4998-b28a-b4042bd88074",
   "metadata": {},
   "source": [
    "# List Comprehension"
   ]
  },
  {
   "cell_type": "code",
   "execution_count": null,
   "id": "4d0060ff-d107-4eed-8961-52f0719890de",
   "metadata": {},
   "outputs": [],
   "source": [
    "[expression for item in iterable if condition]"
   ]
  },
  {
   "cell_type": "code",
   "execution_count": 68,
   "id": "f3f8751d-f5e1-4f79-a343-c7f655d2d441",
   "metadata": {},
   "outputs": [
    {
     "name": "stdout",
     "output_type": "stream",
     "text": [
      "[0, 1, 4, 9, 16, 25]\n"
     ]
    }
   ],
   "source": [
    "squares = [x**2 for x in range(6)]\n",
    "print(squares)  # Output: [0, 1, 4, 9, 16, 25]"
   ]
  },
  {
   "cell_type": "code",
   "execution_count": 76,
   "id": "ea7c64dc-2f58-4003-a420-1873238aaeaf",
   "metadata": {},
   "outputs": [
    {
     "name": "stdout",
     "output_type": "stream",
     "text": [
      "[0, 2, 4, 6, 8]\n"
     ]
    }
   ],
   "source": [
    "evens = [x for x in range(10) if x % 2 == 0]\n",
    "print(evens) "
   ]
  },
  {
   "cell_type": "code",
   "execution_count": 78,
   "id": "a1932e6c-c1cd-4207-88f2-7b9b73508067",
   "metadata": {},
   "outputs": [
    {
     "name": "stdout",
     "output_type": "stream",
     "text": [
      "['sells', 'sea', 'shells', 'sea', 'shore']\n"
     ]
    }
   ],
   "source": [
    "sentence = \"She sells sea shells on the sea shore\"\n",
    "s_words = [word for word in sentence.split() if word.startswith('s')]\n",
    "print(s_words)  "
   ]
  },
  {
   "cell_type": "code",
   "execution_count": 80,
   "id": "2f3ce88a-6b8c-41aa-bfb6-d99f688a9227",
   "metadata": {},
   "outputs": [
    {
     "name": "stdout",
     "output_type": "stream",
     "text": [
      "['even', 'odd', 'even', 'odd', 'even']\n"
     ]
    }
   ],
   "source": [
    "labels = [\"even\" if x % 2 == 0 else \"odd\" for x in range(5)]\n",
    "print(labels)  "
   ]
  },
  {
   "cell_type": "code",
   "execution_count": 82,
   "id": "5e673902-13e4-493d-8e33-3b2e31cfe997",
   "metadata": {},
   "outputs": [],
   "source": [
    "result = []\n",
    "for x in range(10):\n",
    "    if x % 2 == 0:\n",
    "        result.append(x)"
   ]
  },
  {
   "cell_type": "code",
   "execution_count": null,
   "id": "8e7cd467-376b-4ef8-9e4c-ad624dd1c1a1",
   "metadata": {},
   "outputs": [],
   "source": []
  }
 ],
 "metadata": {
  "kernelspec": {
   "display_name": "Python [conda env:base] *",
   "language": "python",
   "name": "conda-base-py"
  },
  "language_info": {
   "codemirror_mode": {
    "name": "ipython",
    "version": 3
   },
   "file_extension": ".py",
   "mimetype": "text/x-python",
   "name": "python",
   "nbconvert_exporter": "python",
   "pygments_lexer": "ipython3",
   "version": "3.12.7"
  }
 },
 "nbformat": 4,
 "nbformat_minor": 5
}
