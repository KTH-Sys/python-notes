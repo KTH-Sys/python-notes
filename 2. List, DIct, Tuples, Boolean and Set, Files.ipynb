{
 "cells": [
  {
   "cell_type": "markdown",
   "id": "f71cb355-90f5-4bbd-8b23-1fe235d7f122",
   "metadata": {},
   "source": [
    "# List\n",
    "A list is an ordered, changeable (mutable) collection of items."
   ]
  },
  {
   "cell_type": "code",
   "execution_count": 3,
   "id": "12308953-dc2b-47f8-8d11-2ce870e0fa1d",
   "metadata": {},
   "outputs": [],
   "source": [
    "fruits = [\"apple\", \"banana\", \"cherry\"]"
   ]
  },
  {
   "cell_type": "markdown",
   "id": "96da60fb-c407-46f5-ade6-e037862bcce6",
   "metadata": {},
   "source": [
    "### List Indexing and Slicing"
   ]
  },
  {
   "cell_type": "code",
   "execution_count": 6,
   "id": "aacffdce-65af-4178-a16c-99a63e04c20b",
   "metadata": {},
   "outputs": [
    {
     "name": "stdout",
     "output_type": "stream",
     "text": [
      "apple\n",
      "cherry\n",
      "['banana', 'cherry']\n"
     ]
    }
   ],
   "source": [
    "print(fruits[0])      # First item → 'apple'\n",
    "print(fruits[-1])     # Last item → 'cherry'\n",
    "print(fruits[1:3])    # Slice → ['banana', 'cherry']"
   ]
  },
  {
   "cell_type": "markdown",
   "id": "506f73c8-ea93-4b49-b1e5-d5ebc7a67f4f",
   "metadata": {},
   "source": [
    "### Common List Methods"
   ]
  },
  {
   "cell_type": "code",
   "execution_count": 9,
   "id": "d493f2ef-2b3d-4980-bcaa-fed653015f22",
   "metadata": {},
   "outputs": [
    {
     "data": {
      "text/plain": [
       "1"
      ]
     },
     "execution_count": 9,
     "metadata": {},
     "output_type": "execute_result"
    }
   ],
   "source": [
    "fruits.append(\"orange\")       # Add to end\n",
    "fruits.insert(1, \"kiwi\")      # Add at index\n",
    "fruits.remove(\"banana\")       # Remove item\n",
    "fruits.pop()                  # Remove last item\n",
    "fruits.sort()                 # Sort alphabetically\n",
    "fruits.reverse()              # Reverse order\n",
    "fruits.count(\"apple\")         # Count occurrences\n",
    "fruits.index(\"cherry\")        # Find index"
   ]
  },
  {
   "cell_type": "markdown",
   "id": "c3e25d1b-8dbb-410a-aeaf-8e951e31231e",
   "metadata": {},
   "source": [
    "### Combining and Copying Lists"
   ]
  },
  {
   "cell_type": "code",
   "execution_count": 12,
   "id": "95eb95c8-3ab4-427e-8e28-ce4025ff2dc3",
   "metadata": {},
   "outputs": [],
   "source": [
    "list1 = [1, 2, 3]\n",
    "list2 = [4, 5]\n",
    "combined = list1 + list2      # [1, 2, 3, 4, 5]\n",
    "copy_list = list1.copy()      # Creates a new copy"
   ]
  },
  {
   "cell_type": "markdown",
   "id": "62f52285-f2b5-48ea-9b79-fd7c21311b1c",
   "metadata": {},
   "source": [
    "### Clear and Delete"
   ]
  },
  {
   "cell_type": "code",
   "execution_count": 17,
   "id": "a1cd21f0-4ed0-457d-8980-4ab546704f32",
   "metadata": {},
   "outputs": [],
   "source": [
    "list1.clear()                 # Removes all items\n",
    "del list2[0]                  # Deletes index 0 item"
   ]
  },
  {
   "cell_type": "code",
   "execution_count": 19,
   "id": "344618e8-e288-4bd6-b1c9-73f101e2dc97",
   "metadata": {},
   "outputs": [],
   "source": [
    "squares = [x**2 for x in range(5)]  # [0, 1, 4, 9, 16]"
   ]
  },
  {
   "cell_type": "markdown",
   "id": "b8ac9bde-1b45-4ff7-9c84-f8387d999d54",
   "metadata": {},
   "source": [
    "# Dictionary \n",
    "A dictionary is an unordered collection of key-value pairs.  \n",
    "Keys must be unique and immutable (e.g., strings, numbers, tuples)   \n",
    "Values can be any type"
   ]
  },
  {
   "cell_type": "code",
   "execution_count": 40,
   "id": "d4b8343c-6e79-4e69-8a66-917b5549aa62",
   "metadata": {},
   "outputs": [
    {
     "name": "stdout",
     "output_type": "stream",
     "text": [
      "{'name': 'Alice', 'age': 21, 'major': 'Computer Science'}\n"
     ]
    }
   ],
   "source": [
    "student = {\n",
    "    \"name\": \"Alice\",\n",
    "    \"age\": 21,\n",
    "    \"major\": \"Computer Science\"\n",
    "}  # 'name' is the key, \"Alice\" is the value\n",
    "print(student)"
   ]
  },
  {
   "cell_type": "code",
   "execution_count": 27,
   "id": "3cbb8797-3af3-4d55-beb0-0f8ac6575d98",
   "metadata": {},
   "outputs": [
    {
     "name": "stdout",
     "output_type": "stream",
     "text": [
      "Alice\n",
      "21\n"
     ]
    }
   ],
   "source": [
    "print(student[\"name\"])       # Output: Alice\n",
    "print(student.get(\"age\"))    # Output: 21"
   ]
  },
  {
   "cell_type": "markdown",
   "id": "d8b5ada8-97af-4735-b6de-81ab3ff0a0a1",
   "metadata": {},
   "source": [
    "### Modifying a Dictionary"
   ]
  },
  {
   "cell_type": "code",
   "execution_count": 30,
   "id": "aa59a2d9-3d70-46a3-bd0b-be0b883ffc16",
   "metadata": {},
   "outputs": [
    {
     "name": "stdout",
     "output_type": "stream",
     "text": [
      "{'name': 'Alice', 'age': 22, 'major': 'Computer Science', 'GPA': 3.8}\n"
     ]
    }
   ],
   "source": [
    "student[\"age\"] = 22                 # Update value\n",
    "student[\"GPA\"] = 3.8                # Add new key-value pair\n",
    "print(student)"
   ]
  },
  {
   "cell_type": "code",
   "execution_count": 32,
   "id": "5576a1f1-efa2-45e4-9d2a-3f1ad1b9100b",
   "metadata": {},
   "outputs": [],
   "source": [
    "student.pop(\"major\")               # Remove by key\n",
    "del student[\"GPA\"]                 # Delete by key\n",
    "student.clear()                    # Clear entire dictionary"
   ]
  },
  {
   "cell_type": "markdown",
   "id": "142ecd49-2294-4488-9a77-87c488965973",
   "metadata": {},
   "source": [
    "### Methods"
   ]
  },
  {
   "cell_type": "markdown",
   "id": "0635acd6-1295-4370-b6b1-253e49c48574",
   "metadata": {},
   "source": [
    "| Method           | Description                          |\n",
    "| ---------------- | ------------------------------------ |\n",
    "| `.get(key)`      | Returns value or `None` if not found |\n",
    "| `.keys()`        | Returns a view of all keys           |\n",
    "| `.values()`      | Returns all values                   |\n",
    "| `.items()`       | Returns key-value pairs              |\n",
    "| `.pop(key)`      | Removes key and returns its value    |\n",
    "| `.update(dict2)` | Updates dictionary with another dict |\n",
    "| `.clear()`       | Clears all items                     |\n"
   ]
  },
  {
   "cell_type": "code",
   "execution_count": 38,
   "id": "7d83ffcd-e95d-478f-93bb-932c42ad9af8",
   "metadata": {},
   "outputs": [
    {
     "name": "stdout",
     "output_type": "stream",
     "text": [
      "Alice\n"
     ]
    }
   ],
   "source": [
    "students = {\n",
    "    \"001\": {\"name\": \"Alice\", \"grade\": \"A\"},\n",
    "    \"002\": {\"name\": \"Bob\", \"grade\": \"B\"}\n",
    "}\n",
    "\n",
    "print(students[\"001\"][\"name\"])  # Output: Alice"
   ]
  },
  {
   "cell_type": "markdown",
   "id": "3f8f92f0-3722-44c8-9326-024a3d053ab2",
   "metadata": {},
   "source": [
    "# Tuples\n",
    "A tuple is an ordered, immutable (unchangeable) collection of items.  \n",
    "Tuples use round brackets ()  \n",
    "They can store mixed data types  \n",
    "Cannot be changed after creation (immutable)"
   ]
  },
  {
   "cell_type": "code",
   "execution_count": 45,
   "id": "9ac6a576-65dc-4827-a4e7-6ca6fdb9d623",
   "metadata": {},
   "outputs": [],
   "source": [
    "my_tuple = (\"apple\", \"banana\", \"cherry\")"
   ]
  },
  {
   "cell_type": "code",
   "execution_count": 47,
   "id": "276e7808-3696-481c-84d8-73156bc93828",
   "metadata": {},
   "outputs": [
    {
     "name": "stdout",
     "output_type": "stream",
     "text": [
      "apple\n",
      "cherry\n",
      "('banana', 'cherry')\n"
     ]
    }
   ],
   "source": [
    "print(my_tuple[0])     # Output: apple\n",
    "print(my_tuple[-1])    # Output: cherry\n",
    "print(my_tuple[1:])    # Output: ('banana', 'cherry')"
   ]
  },
  {
   "cell_type": "markdown",
   "id": "84ef24ed-4a2e-4180-b303-559ed2e4d8da",
   "metadata": {},
   "source": [
    "### Immutability"
   ]
  },
  {
   "cell_type": "code",
   "execution_count": 50,
   "id": "5f9952fa-c678-4a1e-a054-631f16938ce0",
   "metadata": {},
   "outputs": [
    {
     "ename": "TypeError",
     "evalue": "'tuple' object does not support item assignment",
     "output_type": "error",
     "traceback": [
      "\u001b[0;31m---------------------------------------------------------------------------\u001b[0m",
      "\u001b[0;31mTypeError\u001b[0m                                 Traceback (most recent call last)",
      "Cell \u001b[0;32mIn[50], line 1\u001b[0m\n\u001b[0;32m----> 1\u001b[0m my_tuple[\u001b[38;5;241m0\u001b[39m] \u001b[38;5;241m=\u001b[39m \u001b[38;5;124m\"\u001b[39m\u001b[38;5;124morange\u001b[39m\u001b[38;5;124m\"\u001b[39m\n",
      "\u001b[0;31mTypeError\u001b[0m: 'tuple' object does not support item assignment"
     ]
    }
   ],
   "source": [
    "my_tuple[0] = \"orange\"  # ❌ Error: 'tuple' object does not support item assignment"
   ]
  },
  {
   "cell_type": "code",
   "execution_count": 52,
   "id": "b71af08e-0eb8-4232-9e1b-a587e33279c6",
   "metadata": {},
   "outputs": [
    {
     "name": "stdout",
     "output_type": "stream",
     "text": [
      "3\n"
     ]
    }
   ],
   "source": [
    "print(len(my_tuple))   # Output: 3"
   ]
  },
  {
   "cell_type": "code",
   "execution_count": 56,
   "id": "848d3eb2-75f1-4686-8173-b891a2984422",
   "metadata": {},
   "outputs": [
    {
     "name": "stdout",
     "output_type": "stream",
     "text": [
      "2\n",
      "5\n"
     ]
    }
   ],
   "source": [
    "nums = (1, 2, 2, 3, 3, 4)\n",
    "\n",
    "print(nums.count(2))   # Output: 2\n",
    "print(nums.index(4))   # Output: 5"
   ]
  },
  {
   "cell_type": "markdown",
   "id": "844092c4-4e30-401d-89a3-653c20755b05",
   "metadata": {},
   "source": [
    "### Convert List ↔ Tuple"
   ]
  },
  {
   "cell_type": "code",
   "execution_count": 59,
   "id": "edddf979-9286-41ba-a022-33184ac7a7c9",
   "metadata": {},
   "outputs": [],
   "source": [
    "fruits = [\"apple\", \"banana\"]\n",
    "tup = tuple(fruits)     # List → Tuple\n",
    "lst = list(tup)         # Tuple → List"
   ]
  },
  {
   "cell_type": "markdown",
   "id": "2d0e1a03-77a7-4b1a-a3e6-19eec674a228",
   "metadata": {},
   "source": [
    "### Tuple with One Item"
   ]
  },
  {
   "cell_type": "code",
   "execution_count": 62,
   "id": "4c999581-826e-42b4-ab16-16e3ae78b89f",
   "metadata": {},
   "outputs": [
    {
     "name": "stdout",
     "output_type": "stream",
     "text": [
      "<class 'tuple'>\n"
     ]
    }
   ],
   "source": [
    "one_item = (\"hello\",)   # Must have a comma\n",
    "print(type(one_item))   # Output: <class 'tuple'>"
   ]
  },
  {
   "cell_type": "markdown",
   "id": "918a2666-1ca6-4bbf-87e5-a5f7d1a02ceb",
   "metadata": {},
   "source": [
    "# Sets\n",
    "A set is an unordered, unindexed, unique collection of items.   \n",
    " . No duplicate elements  \n",
    " . Items are not ordered   \n",
    " . Sets use {} or set() function"
   ]
  },
  {
   "cell_type": "code",
   "execution_count": 66,
   "id": "47ed8c7b-0cb5-496e-a357-69829b173a91",
   "metadata": {},
   "outputs": [
    {
     "name": "stdout",
     "output_type": "stream",
     "text": [
      "{'banana', 'apple', 'cherry'}\n"
     ]
    }
   ],
   "source": [
    "fruits = {\"apple\", \"banana\", \"banana\", \"cherry\"}\n",
    "print(fruits)"
   ]
  },
  {
   "cell_type": "markdown",
   "id": "800920db-866e-4d63-a17e-6a36d05f2c23",
   "metadata": {},
   "source": [
    "### Methods"
   ]
  },
  {
   "cell_type": "code",
   "execution_count": 69,
   "id": "4fb6c3e8-25d7-4a9a-89e9-f194d2440bbe",
   "metadata": {},
   "outputs": [],
   "source": [
    "fruits.add(\"orange\")         # Add item\n",
    "fruits.remove(\"banana\")      # Remove item (error if not found)\n",
    "fruits.discard(\"grape\")      # Remove without error\n",
    "fruits.clear()               # Empty the set"
   ]
  },
  {
   "cell_type": "markdown",
   "id": "7768225f-7e8f-47e3-b25f-6abbdf2b0f57",
   "metadata": {},
   "source": [
    "### Operations"
   ]
  },
  {
   "cell_type": "code",
   "execution_count": 72,
   "id": "5938d36e-b79c-4f15-bccd-4c89ecd40c73",
   "metadata": {},
   "outputs": [
    {
     "name": "stdout",
     "output_type": "stream",
     "text": [
      "{1, 2, 3, 4, 5}\n",
      "{3}\n",
      "{1, 2}\n",
      "{1, 2, 4, 5}\n"
     ]
    }
   ],
   "source": [
    "a = {1, 2, 3}\n",
    "b = {3, 4, 5}\n",
    "\n",
    "print(a | b)   # Union → {1, 2, 3, 4, 5}\n",
    "print(a & b)   # Intersection → {3}\n",
    "print(a - b)   # Difference → {1, 2}\n",
    "print(a ^ b)   # Symmetric difference → {1, 2, 4, 5}"
   ]
  },
  {
   "cell_type": "markdown",
   "id": "7fc89dd7-b13f-414c-8035-ab34a9dbd74b",
   "metadata": {},
   "source": [
    "# Boolean\n",
    "A Boolean is either True or False."
   ]
  },
  {
   "cell_type": "code",
   "execution_count": 75,
   "id": "7e3a2f27-7441-4720-9d2c-b6fa94b5a0d8",
   "metadata": {},
   "outputs": [
    {
     "name": "stdout",
     "output_type": "stream",
     "text": [
      "<class 'bool'>\n"
     ]
    }
   ],
   "source": [
    "x = True\n",
    "y = False\n",
    "print(type(x))  # Output: <class 'bool'>"
   ]
  },
  {
   "cell_type": "markdown",
   "id": "eaeed4f6-b68a-445a-8ad6-08833e2169c7",
   "metadata": {},
   "source": [
    "### Expression"
   ]
  },
  {
   "cell_type": "code",
   "execution_count": 78,
   "id": "779c2a33-3629-456f-96d4-4a20a957eab9",
   "metadata": {},
   "outputs": [
    {
     "name": "stdout",
     "output_type": "stream",
     "text": [
      "True\n",
      "False\n",
      "True\n"
     ]
    }
   ],
   "source": [
    "print(5 > 3)     # True\n",
    "print(2 == 4)    # False\n",
    "print(\"a\" in \"cat\")  # True"
   ]
  },
  {
   "cell_type": "markdown",
   "id": "ec655850-b37e-4923-8921-1b6f14469060",
   "metadata": {},
   "source": [
    "### Logical Operators\n",
    "| Operator | Meaning      | Example          | Result |\n",
    "| -------- | ------------ | ---------------- | ------ |\n",
    "| `and`    | Both true    | `True and False` | False  |\n",
    "| `or`     | At least one | `True or False`  | True   |\n",
    "| `not`    | Negation     | `not True`       | False  |"
   ]
  },
  {
   "cell_type": "code",
   "execution_count": 83,
   "id": "48fdce42-0270-4706-949f-b41e51dfb987",
   "metadata": {},
   "outputs": [
    {
     "name": "stdout",
     "output_type": "stream",
     "text": [
      "You are an adult.\n"
     ]
    }
   ],
   "source": [
    "age = 20\n",
    "if age >= 18:\n",
    "    print(\"You are an adult.\")  # True branch"
   ]
  },
  {
   "cell_type": "markdown",
   "id": "7806858e-9435-4e9c-8b8c-ccbdd5e0be6e",
   "metadata": {},
   "source": [
    "# Python File Handling\n",
    "\n",
    "Python allows you to read from and write to files using built-in functions like `open()`, `read()`, `write()`, and `with`."
   ]
  },
  {
   "cell_type": "markdown",
   "id": "e9201fa0-1b25-4f2b-b902-8c38110cbc31",
   "metadata": {
    "jp-MarkdownHeadingCollapsed": true
   },
   "source": [
    "### Open a File\n",
    "\n",
    "\n",
    "| Mode  | Description         |\n",
    "| ----- | ------------------- |\n",
    "| `'r'` | Read (default)      |\n",
    "| `'w'` | Write (overwrite)   |\n",
    "| `'a'` | Append              |\n",
    "| `'x'` | Create file         |\n",
    "| `'b'` | Binary mode         |\n",
    "| `'t'` | Text mode (default) |"
   ]
  },
  {
   "cell_type": "markdown",
   "id": "26631768-e8ca-45fc-93d2-8ca17fe57eb8",
   "metadata": {},
   "source": [
    "### Reading Files"
   ]
  },
  {
   "cell_type": "code",
   "execution_count": null,
   "id": "96be24eb-60a5-4088-8cbc-eb1bbb970eab",
   "metadata": {},
   "outputs": [],
   "source": [
    "file = open(\"example.txt\", \"r\")\n",
    "content = file.read()\n",
    "print(content)\n",
    "file.close()"
   ]
  },
  {
   "cell_type": "markdown",
   "id": "69adb92a-eed3-4fbb-ba57-8343a704f31c",
   "metadata": {},
   "source": [
    "### Better Practice: `with` Statement\n",
    "Automatically closes the file."
   ]
  },
  {
   "cell_type": "code",
   "execution_count": null,
   "id": "29631b04-1ca7-4f00-8d88-b63d4c6f1c7e",
   "metadata": {},
   "outputs": [],
   "source": [
    "with open(\"example.txt\", \"r\") as file:\n",
    "    content = file.read()\n",
    "    print(content)"
   ]
  },
  {
   "cell_type": "markdown",
   "id": "1ecc0d7f-62de-4f64-b5ee-3871a643560b",
   "metadata": {},
   "source": [
    "### Read Methods"
   ]
  },
  {
   "cell_type": "code",
   "execution_count": null,
   "id": "0a9cf956-d995-483b-9929-9c2f919c7f17",
   "metadata": {},
   "outputs": [],
   "source": [
    "file.read()     # Reads full content\n",
    "file.readline() # Reads one line\n",
    "file.readlines() # Reads all lines into a list"
   ]
  },
  {
   "cell_type": "markdown",
   "id": "34e48688-3758-4614-b647-d6c97b569312",
   "metadata": {},
   "source": [
    "### Writing to Files\n",
    "* Overwrites existing file\n",
    "* Use `\"a\"` mode to append instead of overwrite"
   ]
  },
  {
   "cell_type": "code",
   "execution_count": null,
   "id": "d1730d7d-88ad-4da2-a913-805b1f370436",
   "metadata": {},
   "outputs": [],
   "source": [
    "with open(\"output.txt\", \"w\") as file:\n",
    "    file.write(\"Hello, this is new content!\")"
   ]
  },
  {
   "cell_type": "markdown",
   "id": "7c408917-f5fa-411e-aafe-93beb1e58219",
   "metadata": {},
   "source": [
    "### Reading & Writing Together"
   ]
  },
  {
   "cell_type": "code",
   "execution_count": null,
   "id": "ccdbd45c-b926-4c2f-aecc-f746f142a693",
   "metadata": {},
   "outputs": [],
   "source": [
    "with open(\"data.txt\", \"r+\") as file:\n",
    "    content = file.read()\n",
    "    file.write(\"\\nNew line added.\")"
   ]
  },
  {
   "cell_type": "markdown",
   "id": "07e53b73-bd84-4cdf-8822-136cdebd0757",
   "metadata": {},
   "source": [
    "### Check File Exists"
   ]
  },
  {
   "cell_type": "code",
   "execution_count": 102,
   "id": "47439f07-04c0-4ad3-b4e5-d6960b5e9fe1",
   "metadata": {},
   "outputs": [
    {
     "name": "stdout",
     "output_type": "stream",
     "text": [
      "File does not exist.\n"
     ]
    }
   ],
   "source": [
    "import os\n",
    "\n",
    "if os.path.exists(\"example.txt\"):\n",
    "    print(\"File exists.\")\n",
    "else:\n",
    "    print(\"File does not exist.\")"
   ]
  }
 ],
 "metadata": {
  "kernelspec": {
   "display_name": "Python [conda env:base] *",
   "language": "python",
   "name": "conda-base-py"
  },
  "language_info": {
   "codemirror_mode": {
    "name": "ipython",
    "version": 3
   },
   "file_extension": ".py",
   "mimetype": "text/x-python",
   "name": "python",
   "nbconvert_exporter": "python",
   "pygments_lexer": "ipython3",
   "version": "3.12.7"
  }
 },
 "nbformat": 4,
 "nbformat_minor": 5
}
