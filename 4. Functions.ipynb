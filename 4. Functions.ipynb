{
 "cells": [
  {
   "cell_type": "markdown",
   "id": "5e2ef702",
   "metadata": {},
   "source": [
    "# 📘 Python Notes: Methods, Functions, Lambda, *args, **kwargs, Nested Statements"
   ]
  },
  {
   "cell_type": "markdown",
   "id": "727f47ff",
   "metadata": {},
   "source": [
    "## 🔹 Functions"
   ]
  },
  {
   "cell_type": "code",
   "execution_count": null,
   "id": "8d7e3b4c",
   "metadata": {},
   "outputs": [],
   "source": [
    "# Define a function\n",
    "def greet(name):\n",
    "    return f\"Hello, {name}!\"\n",
    "\n",
    "greet(\"Alice\")"
   ]
  },
  {
   "cell_type": "markdown",
   "id": "d73a9046",
   "metadata": {},
   "source": [
    "## 🔹 Methods (built-in functions for objects)"
   ]
  },
  {
   "cell_type": "code",
   "execution_count": null,
   "id": "492ebc2b",
   "metadata": {},
   "outputs": [],
   "source": [
    "# String methods\n",
    "text = \"hello world\"\n",
    "print(text.upper())\n",
    "print(text.replace(\"world\", \"Python\"))"
   ]
  },
  {
   "cell_type": "markdown",
   "id": "0300b012",
   "metadata": {},
   "source": [
    "## 🔹 Lambda Expressions"
   ]
  },
  {
   "cell_type": "code",
   "execution_count": null,
   "id": "b38b94ea",
   "metadata": {},
   "outputs": [],
   "source": [
    "# Lambda: anonymous function\n",
    "square = lambda x: x**2\n",
    "print(square(5))"
   ]
  },
  {
   "cell_type": "markdown",
   "id": "ccae0eb9",
   "metadata": {},
   "source": [
    "## 🔹 *args and **kwargs"
   ]
  },
  {
   "cell_type": "code",
   "execution_count": 3,
   "id": "5509c2f7",
   "metadata": {},
   "outputs": [
    {
     "name": "stdout",
     "output_type": "stream",
     "text": [
      "10\n",
      "name: Alice\n",
      "age: 30\n",
      "job: Engineer\n"
     ]
    }
   ],
   "source": [
    "# *args allows variable number of positional arguments\n",
    "def sum_all(*args):\n",
    "    return sum(args)\n",
    "\n",
    "print(sum_all(1, 2, 3, 4))\n",
    "\n",
    "# **kwargs allows variable number of keyword arguments\n",
    "def print_info(**kwargs):\n",
    "    for key, value in kwargs.items():\n",
    "        print(f\"{key}: {value}\")\n",
    "\n",
    "print_info(name=\"Alice\", age=30, job=\"Engineer\")"
   ]
  },
  {
   "cell_type": "markdown",
   "id": "f41e10c7",
   "metadata": {},
   "source": [
    "## 🔹 Nested Statements and Scope"
   ]
  },
  {
   "cell_type": "code",
   "execution_count": 1,
   "id": "742cf664",
   "metadata": {},
   "outputs": [
    {
     "name": "stdout",
     "output_type": "stream",
     "text": [
      "Outer function\n",
      "Inner function\n"
     ]
    }
   ],
   "source": [
    "# Function within a function (closure)\n",
    "def outer():\n",
    "    print(\"Outer function\")\n",
    "\n",
    "    def inner():\n",
    "        print(\"Inner function\")\n",
    "\n",
    "    inner()\n",
    "\n",
    "outer()"
   ]
  },
  {
   "cell_type": "markdown",
   "id": "4130c43d",
   "metadata": {},
   "source": [
    "## ✅ Summary"
   ]
  },
  {
   "cell_type": "markdown",
   "id": "c023d6fb",
   "metadata": {},
   "source": [
    "\n",
    "- `def` is used to define a function.\n",
    "- Methods are functions tied to objects (like `str.upper()`).\n",
    "- `lambda` creates small anonymous functions.\n",
    "- `*args` is used for variable-length positional arguments.\n",
    "- `**kwargs` is used for variable-length keyword arguments.\n",
    "- Functions can be nested inside other functions.\n"
   ]
  }
 ],
 "metadata": {
  "kernelspec": {
   "display_name": "Python [conda env:base] *",
   "language": "python",
   "name": "conda-base-py"
  },
  "language_info": {
   "codemirror_mode": {
    "name": "ipython",
    "version": 3
   },
   "file_extension": ".py",
   "mimetype": "text/x-python",
   "name": "python",
   "nbconvert_exporter": "python",
   "pygments_lexer": "ipython3",
   "version": "3.12.7"
  }
 },
 "nbformat": 4,
 "nbformat_minor": 5
}
